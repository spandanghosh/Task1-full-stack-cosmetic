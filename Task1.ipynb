{
  "nbformat": 4,
  "nbformat_minor": 0,
  "metadata": {
    "colab": {
      "provenance": []
    },
    "kernelspec": {
      "name": "python3",
      "display_name": "Python 3"
    },
    "language_info": {
      "name": "python"
    }
  },
  "cells": [
    {
      "cell_type": "code",
      "execution_count": null,
      "metadata": {
        "colab": {
          "base_uri": "https://localhost:8080/"
        },
        "id": "JMw1fJzhSRUF",
        "outputId": "df1e1b1d-71f7-4b55-d0c5-01f2a3b38cdf"
      },
      "outputs": [
        {
          "output_type": "stream",
          "name": "stdout",
          "text": [
            "Requirement already satisfied: beautifulsoup4 in /usr/local/lib/python3.10/dist-packages (4.12.3)\n",
            "Requirement already satisfied: soupsieve>1.2 in /usr/local/lib/python3.10/dist-packages (from beautifulsoup4) (2.5)\n"
          ]
        }
      ],
      "source": [
        "!pip install beautifulsoup4\n"
      ]
    },
    {
      "cell_type": "code",
      "source": [
        "import requests\n",
        "from bs4 import BeautifulSoup\n",
        "import csv\n",
        "\n",
        "def fetch_semantic_scholar_data(title):\n",
        "    api_url = f'https://api.semanticscholar.org/v1/paper/search?query={title}'\n",
        "    response = requests.get(api_url)\n",
        "\n",
        "    if response.status_code == 200:\n",
        "        data = response.json()\n",
        "        return data.get('data', [])\n",
        "    else:\n",
        "        print(f\"Error fetching data from Semantic Scholar: {response.status_code}\")\n",
        "        return []"
      ],
      "metadata": {
        "id": "VVT7rm-mSY4e"
      },
      "execution_count": null,
      "outputs": []
    },
    {
      "cell_type": "code",
      "source": [
        "def fetch_pubmed_data(title):\n",
        "    api_url = f'https://eutils.ncbi.nlm.nih.gov/entrez/eutils/esearch.fcgi?db=pubmed&term={title}'\n",
        "    response = requests.get(api_url)\n",
        "\n",
        "    if response.status_code == 200:\n",
        "        soup = BeautifulSoup(response.text, 'html.parser')\n",
        "        pmids = [tag.text for tag in soup.find_all('id')]\n",
        "        return pmids\n",
        "    else:\n",
        "        print(f\"Error fetching data from PubMed: {response.status_code}\")\n",
        "        return []"
      ],
      "metadata": {
        "id": "kRlvBkKiXWRP"
      },
      "execution_count": null,
      "outputs": []
    },
    {
      "cell_type": "code",
      "source": [
        "def create_content(title, semantic_scholar_data, pubmed_data):\n",
        "    print(f\"Title: {title}\")\n",
        "    print(\"Semantic Scholar Data:\")\n",
        "    print(semantic_scholar_data)\n",
        "    print(\"PubMed Data:\")\n",
        "    print(pubmed_data)\n",
        "    print(\"\\n\")"
      ],
      "metadata": {
        "id": "J9FaZ3J_XZmz"
      },
      "execution_count": null,
      "outputs": []
    },
    {
      "cell_type": "code",
      "source": [
        "def store_in_csv(title, semantic_scholar_data, pubmed_data):\n",
        "    csv_file_path = '/content/output.csv'\n",
        "\n",
        "    # Writing data to CSV\n",
        "    with open(csv_file_path, mode='a', newline='') as csv_file:\n",
        "        writer = csv.writer(csv_file)\n",
        "        writer.writerow([title, semantic_scholar_data, pubmed_data])\n"
      ],
      "metadata": {
        "id": "WEgTZnuoXec9"
      },
      "execution_count": null,
      "outputs": []
    },
    {
      "cell_type": "code",
      "source": [
        "if __name__ == \"__main__\":\n",
        "    example_title = \"Your Research Paper Title\"\n",
        "    semantic_scholar_data = fetch_semantic_scholar_data(example_title)\n",
        "    pubmed_data = fetch_pubmed_data(example_title)\n",
        "    create_content(example_title, semantic_scholar_data, pubmed_data)\n",
        "    store_in_csv(example_title, semantic_scholar_data, pubmed_data)\n"
      ],
      "metadata": {
        "colab": {
          "base_uri": "https://localhost:8080/"
        },
        "id": "vQwuUzKWXhrF",
        "outputId": "aba52e0f-37cd-40c5-f2d4-d0045ee73dd1"
      },
      "execution_count": null,
      "outputs": [
        {
          "output_type": "stream",
          "name": "stdout",
          "text": [
            "Error fetching data from Semantic Scholar: 404\n",
            "Title: Your Research Paper Title\n",
            "Semantic Scholar Data:\n",
            "[]\n",
            "PubMed Data:\n",
            "['38061481', '37948884', '37739729', '37739687', '37546440', '36786151', '36504214', '36325717', '34827283', '37073362', '34145416', '33018802', '31111648', '29444766', '28797266', '28113365', '26264081', '22786852', '21159335', '17199082']\n",
            "\n",
            "\n"
          ]
        },
        {
          "output_type": "stream",
          "name": "stderr",
          "text": [
            "/usr/lib/python3.10/html/parser.py:170: XMLParsedAsHTMLWarning: It looks like you're parsing an XML document using an HTML parser. If this really is an HTML document (maybe it's XHTML?), you can ignore or filter this warning. If it's XML, you should know that using an XML parser will be more reliable. To parse this document as XML, make sure you have the lxml package installed, and pass the keyword argument `features=\"xml\"` into the BeautifulSoup constructor.\n",
            "  k = self.parse_starttag(i)\n"
          ]
        }
      ]
    },
    {
      "cell_type": "code",
      "source": [
        "from google.colab import files\n",
        "files.download('/content/output.csv')"
      ],
      "metadata": {
        "colab": {
          "base_uri": "https://localhost:8080/",
          "height": 17
        },
        "id": "Zwd7Tv-JXlo8",
        "outputId": "ddad94b8-ca12-453a-f4a6-d2280be68f8b"
      },
      "execution_count": null,
      "outputs": [
        {
          "output_type": "display_data",
          "data": {
            "text/plain": [
              "<IPython.core.display.Javascript object>"
            ],
            "application/javascript": [
              "\n",
              "    async function download(id, filename, size) {\n",
              "      if (!google.colab.kernel.accessAllowed) {\n",
              "        return;\n",
              "      }\n",
              "      const div = document.createElement('div');\n",
              "      const label = document.createElement('label');\n",
              "      label.textContent = `Downloading \"${filename}\": `;\n",
              "      div.appendChild(label);\n",
              "      const progress = document.createElement('progress');\n",
              "      progress.max = size;\n",
              "      div.appendChild(progress);\n",
              "      document.body.appendChild(div);\n",
              "\n",
              "      const buffers = [];\n",
              "      let downloaded = 0;\n",
              "\n",
              "      const channel = await google.colab.kernel.comms.open(id);\n",
              "      // Send a message to notify the kernel that we're ready.\n",
              "      channel.send({})\n",
              "\n",
              "      for await (const message of channel.messages) {\n",
              "        // Send a message to notify the kernel that we're ready.\n",
              "        channel.send({})\n",
              "        if (message.buffers) {\n",
              "          for (const buffer of message.buffers) {\n",
              "            buffers.push(buffer);\n",
              "            downloaded += buffer.byteLength;\n",
              "            progress.value = downloaded;\n",
              "          }\n",
              "        }\n",
              "      }\n",
              "      const blob = new Blob(buffers, {type: 'application/binary'});\n",
              "      const a = document.createElement('a');\n",
              "      a.href = window.URL.createObjectURL(blob);\n",
              "      a.download = filename;\n",
              "      div.appendChild(a);\n",
              "      a.click();\n",
              "      div.remove();\n",
              "    }\n",
              "  "
            ]
          },
          "metadata": {}
        },
        {
          "output_type": "display_data",
          "data": {
            "text/plain": [
              "<IPython.core.display.Javascript object>"
            ],
            "application/javascript": [
              "download(\"download_e1044f85-c1f6-4607-910c-f4908185184b\", \"output.csv\", 273)"
            ]
          },
          "metadata": {}
        }
      ]
    }
  ]
}